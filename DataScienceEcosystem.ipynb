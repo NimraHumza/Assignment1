{
 "cells": [
  {
   "cell_type": "markdown",
   "id": "1a1858e5-3179-4ec8-9134-0e83993e8f48",
   "metadata": {},
   "source": [
    "# Data Science Tools and Ecosystem "
   ]
  },
  {
   "attachments": {},
   "cell_type": "markdown",
   "id": "59501c83-2233-4abc-b5ad-6acb88603f97",
   "metadata": {},
   "source": [
    "In this notebook, Data Science Tools and Ecosystem are summarized.\n",
    "\n",
    "**Objectives**\n",
    "- List popular programming languages\n",
    "- List Data Science Tools\n",
    "- Evaluating Arithmateic Expression"
   ]
  },
  {
   "cell_type": "markdown",
   "id": "020ba8eb-5935-4cd3-a45e-7ea78b946abc",
   "metadata": {},
   "source": [
    "Some of the popular languages that Data Scientists use are:\n",
    "1. Python\n",
    "2. R\n",
    "3. Scala\n",
    "4. Julia"
   ]
  },
  {
   "cell_type": "markdown",
   "id": "2beb107f-51e7-404c-9439-430ab9cf0609",
   "metadata": {},
   "source": [
    "| Data Science Tools |\n",
    "|--------------------|\n",
    "| TensorFlow |\n",
    "| Jupyter Notebook |\n",
    "| Visual Basic |\n",
    "| RStudios |"
   ]
  },
  {
   "cell_type": "markdown",
   "id": "3b2aa7ad-dce6-47ab-b39c-b5c693db82f4",
   "metadata": {},
   "source": [
    "### Below are a few examples of evaluating arithmetic expressions in Python"
   ]
  },
  {
   "cell_type": "code",
   "execution_count": 2,
   "id": "a3719210-ddb7-415a-9049-6b0f0ed36e5c",
   "metadata": {},
   "outputs": [
    {
     "data": {
      "text/plain": [
       "17"
      ]
     },
     "execution_count": 2,
     "metadata": {},
     "output_type": "execute_result"
    }
   ],
   "source": [
    "#This a simple arithmetic expression to mutiply then add integers.\n",
    "(3*4)+5"
   ]
  },
  {
   "cell_type": "code",
   "execution_count": 3,
   "id": "cdaeccbe-bccf-461d-9d9e-5b495c22b856",
   "metadata": {},
   "outputs": [
    {
     "data": {
      "text/plain": [
       "12000"
      ]
     },
     "execution_count": 3,
     "metadata": {},
     "output_type": "execute_result"
    }
   ],
   "source": [
    "#This will convert 200 minutes to hours by diving by 60\n",
    "200*60"
   ]
  },
  {
   "cell_type": "markdown",
   "id": "ae2a3087-d04f-46c1-b432-83ec54e617e4",
   "metadata": {},
   "source": [
    "## Author\n",
    "Nimra Humza"
   ]
  },
  {
   "cell_type": "code",
   "execution_count": null,
   "id": "248a725e-444e-46d0-883f-37020d4cbb65",
   "metadata": {},
   "outputs": [],
   "source": []
  }
 ],
 "metadata": {
  "kernelspec": {
   "display_name": "Python 3 (ipykernel)",
   "language": "python",
   "name": "python3"
  },
  "language_info": {
   "codemirror_mode": {
    "name": "ipython",
    "version": 3
   },
   "file_extension": ".py",
   "mimetype": "text/x-python",
   "name": "python",
   "nbconvert_exporter": "python",
   "pygments_lexer": "ipython3",
   "version": "3.8.2"
  }
 },
 "nbformat": 4,
 "nbformat_minor": 5
}
